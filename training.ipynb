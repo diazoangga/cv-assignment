{
 "cells": [
  {
   "cell_type": "code",
   "execution_count": 11,
   "metadata": {},
   "outputs": [],
   "source": [
    "import tensorflow as tf\n",
    "import datetime\n",
    "import os\n",
    "os. environ['TF_CPP_MIN_LOG_LEVEL'] = '3'\n",
    "\n",
    "from tensorflow.keras.optimizers import Adam\n",
    "from tensorflow.keras.callbacks import *\n",
    "from tensorflow.keras.metrics import IoU\n",
    "from tensorflow.keras.layers import Input\n",
    "from tensorflow.keras import optimizers\n",
    "from tensorflow.keras.callbacks import ModelCheckpoint\n",
    "\n",
    "from dataset_loader import DataLoader\n",
    "from model import UNet\n",
    "from losses import CustomLoss"
   ]
  },
  {
   "cell_type": "code",
   "execution_count": 12,
   "metadata": {},
   "outputs": [],
   "source": [
    "DATASET = {\n",
    "    'DATASET_PATH': './Dataset',\n",
    "    'TRAIN_VAL_RATIO': 0.2,\n",
    "    'BATCH_SIZE': 4,\n",
    "    'IMG_SIZE': (128,128),\n",
    "    'SHUFFLE': True,\n",
    "    'NUM_CLASSES': 3\n",
    "    }\n",
    "\n",
    "AUG = {\n",
    "    'FLIP_H': 0.3,\n",
    "    'FLIP_V': 0.6,\n",
    "    'ROTATE_CW': 0.4,\n",
    "    'ROTATE_CCW': 0.7,\n",
    "    'TRANSLATE': [5, 0.3],\n",
    "    'RAND_BRIGHTNESS': 0.5,\n",
    "}\n",
    "\n",
    "RANDOM_SEED = 120\n",
    "\n",
    "MODEL = {\n",
    "    'ARCH': 'UNet',\n",
    "    'INPUT_SIZE': (128,128,3)\n",
    "    }\n",
    "LOSS = {\n",
    "    'DICE_COEFF': 0.1,\n",
    "    'IOU_COEFF': 0.1,\n",
    "    'FOCAL_LOSS_COEFF': 0.8\n",
    "    }\n",
    "\n",
    "TRAIN = {\n",
    "    'NUM_EPOCHS': 2,\n",
    "    'LR': 0.0001,\n",
    "    'DECAY_STEP': 0.0005,\n",
    "    'EARLY_STOP': True,\n",
    "    'MODEL_SAVE_DIR': './train_results'    \n",
    "    }\n"
   ]
  },
  {
   "cell_type": "code",
   "execution_count": 13,
   "metadata": {},
   "outputs": [
    {
     "name": "stdout",
     "output_type": "stream",
     "text": [
      "Importing the datasets with the following parameters...\n",
      "   Dataset path                    : ./Dataset\n",
      "   Train-Val dataset ratio        : 0.2\n",
      "\n",
      "Splitting training and validation sets...\n",
      "num of training data:  2944\n",
      "num of validation data:  736\n",
      "num of testing data:  3710\n"
     ]
    }
   ],
   "source": [
    "# Define the dataset loader\n",
    "tf.random.set_seed(RANDOM_SEED)\n",
    "datasetLoader = DataLoader(DATASET['DATASET_PATH'])\n",
    "train_dataset, val_dataset, test_dataset = datasetLoader.create_dataset()\n"
   ]
  },
  {
   "cell_type": "code",
   "execution_count": 14,
   "metadata": {},
   "outputs": [
    {
     "name": "stdout",
     "output_type": "stream",
     "text": [
      "WARNING:tensorflow:From c:\\ProgramData\\miniconda3\\envs\\cvLab\\Lib\\site-packages\\keras\\src\\backend\\tensorflow\\core.py:216: The name tf.placeholder is deprecated. Please use tf.compat.v1.placeholder instead.\n",
      "\n"
     ]
    }
   ],
   "source": [
    "# Define the model\n",
    "model_arch = MODEL['ARCH']\n",
    "if model_arch == 'UNet':\n",
    "    unet = UNet(num_class=3, dropout=0.2)\n",
    "    inputs = Input(shape=MODEL['INPUT_SIZE'])\n",
    "    out = unet(inputs, training=True)\n",
    "    model = tf.keras.Model(inputs=inputs, outputs=out)\n",
    "elif model_arch == 'Autoencoder':\n",
    "    pass\n",
    "elif model_arch == 'CLIP':\n",
    "    pass\n",
    "elif model_arch == 'Prompt':\n",
    "    pass\n",
    "else:\n",
    "    print('Model architecture is not assigned')"
   ]
  },
  {
   "cell_type": "code",
   "execution_count": 16,
   "metadata": {},
   "outputs": [],
   "source": [
    "# Compile the model\n",
    "learning_rate = TRAIN['LR']\n",
    "decay_step = TRAIN['DECAY_STEP']\n",
    "if decay_step is not None:\n",
    "    schedule = optimizers.schedules.PolynomialDecay(\n",
    "                    initial_learning_rate=learning_rate,\n",
    "                    decay_steps=decay_step,\n",
    "                    power=0.9\n",
    "                )\n",
    "    optimizer = Adam(learning_rate=schedule)\n",
    "else:\n",
    "    optimizer = Adam(learning_rate=0.001)\n",
    "\n",
    "\n",
    "loss = CustomLoss(LOSS)\n",
    "iou_metrics = IoU(3, [0])\n",
    "log_dir = \"logs/fit/\" + datetime.datetime.now().strftime(\"%Y%m%d-%H%M%S\")\n",
    "tensorboard_callback = tf.keras.callbacks.TensorBoard(log_dir=log_dir, histogram_freq=1)\n",
    "\n",
    "if TRAIN['EARLY_STOP'] == True:\n",
    "    early_stop = tf.keras.callbacks.EarlyStopping(monitor='val_loss', patience=8)\n",
    "    \n",
    "model.compile(optimizer=optimizer, \n",
    "              loss=loss, \n",
    "              metrics=['acc', iou_metrics])\n",
    "\n",
    "checkpoint = ModelCheckpoint(filepath=os.path.join(TRAIN['MODEL_SAVE_DIR'], '{model_arch}.epoch{epoch:02d}-loss{loss:.2f}.weights.h5'),\n",
    "                            monitor='val_loss',\n",
    "                            verbose=1,\n",
    "                            save_weights_only=True,\n",
    "                            save_best_only=True,\n",
    "                            mode='min')"
   ]
  },
  {
   "cell_type": "code",
   "execution_count": 17,
   "metadata": {},
   "outputs": [
    {
     "name": "stdout",
     "output_type": "stream",
     "text": [
      "Epoch 1/2\n"
     ]
    },
    {
     "ename": "InvalidArgumentError",
     "evalue": "Graph execution error:\n\nDetected at node stack defined at (most recent call last):\n  File \"<frozen runpy>\", line 198, in _run_module_as_main\n\n  File \"<frozen runpy>\", line 88, in _run_code\n\n  File \"C:\\Users\\Diaz Angga Permana\\AppData\\Roaming\\Python\\Python312\\site-packages\\ipykernel_launcher.py\", line 18, in <module>\n\n  File \"C:\\Users\\Diaz Angga Permana\\AppData\\Roaming\\Python\\Python312\\site-packages\\traitlets\\config\\application.py\", line 1075, in launch_instance\n\n  File \"C:\\Users\\Diaz Angga Permana\\AppData\\Roaming\\Python\\Python312\\site-packages\\ipykernel\\kernelapp.py\", line 739, in start\n\n  File \"C:\\Users\\Diaz Angga Permana\\AppData\\Roaming\\Python\\Python312\\site-packages\\tornado\\platform\\asyncio.py\", line 205, in start\n\n  File \"c:\\ProgramData\\miniconda3\\envs\\cvLab\\Lib\\asyncio\\base_events.py\", line 645, in run_forever\n\n  File \"c:\\ProgramData\\miniconda3\\envs\\cvLab\\Lib\\asyncio\\base_events.py\", line 1999, in _run_once\n\n  File \"c:\\ProgramData\\miniconda3\\envs\\cvLab\\Lib\\asyncio\\events.py\", line 88, in _run\n\n  File \"C:\\Users\\Diaz Angga Permana\\AppData\\Roaming\\Python\\Python312\\site-packages\\ipykernel\\kernelbase.py\", line 545, in dispatch_queue\n\n  File \"C:\\Users\\Diaz Angga Permana\\AppData\\Roaming\\Python\\Python312\\site-packages\\ipykernel\\kernelbase.py\", line 534, in process_one\n\n  File \"C:\\Users\\Diaz Angga Permana\\AppData\\Roaming\\Python\\Python312\\site-packages\\ipykernel\\kernelbase.py\", line 437, in dispatch_shell\n\n  File \"C:\\Users\\Diaz Angga Permana\\AppData\\Roaming\\Python\\Python312\\site-packages\\ipykernel\\ipkernel.py\", line 362, in execute_request\n\n  File \"C:\\Users\\Diaz Angga Permana\\AppData\\Roaming\\Python\\Python312\\site-packages\\ipykernel\\kernelbase.py\", line 778, in execute_request\n\n  File \"C:\\Users\\Diaz Angga Permana\\AppData\\Roaming\\Python\\Python312\\site-packages\\ipykernel\\ipkernel.py\", line 449, in do_execute\n\n  File \"C:\\Users\\Diaz Angga Permana\\AppData\\Roaming\\Python\\Python312\\site-packages\\ipykernel\\zmqshell.py\", line 549, in run_cell\n\n  File \"C:\\Users\\Diaz Angga Permana\\AppData\\Roaming\\Python\\Python312\\site-packages\\IPython\\core\\interactiveshell.py\", line 3075, in run_cell\n\n  File \"C:\\Users\\Diaz Angga Permana\\AppData\\Roaming\\Python\\Python312\\site-packages\\IPython\\core\\interactiveshell.py\", line 3130, in _run_cell\n\n  File \"C:\\Users\\Diaz Angga Permana\\AppData\\Roaming\\Python\\Python312\\site-packages\\IPython\\core\\async_helpers.py\", line 128, in _pseudo_sync_runner\n\n  File \"C:\\Users\\Diaz Angga Permana\\AppData\\Roaming\\Python\\Python312\\site-packages\\IPython\\core\\interactiveshell.py\", line 3334, in run_cell_async\n\n  File \"C:\\Users\\Diaz Angga Permana\\AppData\\Roaming\\Python\\Python312\\site-packages\\IPython\\core\\interactiveshell.py\", line 3517, in run_ast_nodes\n\n  File \"C:\\Users\\Diaz Angga Permana\\AppData\\Roaming\\Python\\Python312\\site-packages\\IPython\\core\\interactiveshell.py\", line 3577, in run_code\n\n  File \"C:\\Users\\Diaz Angga Permana\\AppData\\Local\\Temp\\ipykernel_2824\\665906156.py\", line 1, in <module>\n\n  File \"c:\\ProgramData\\miniconda3\\envs\\cvLab\\Lib\\site-packages\\keras\\src\\utils\\traceback_utils.py\", line 117, in error_handler\n\n  File \"c:\\ProgramData\\miniconda3\\envs\\cvLab\\Lib\\site-packages\\keras\\src\\backend\\tensorflow\\trainer.py\", line 371, in fit\n\n  File \"c:\\ProgramData\\miniconda3\\envs\\cvLab\\Lib\\site-packages\\keras\\src\\backend\\tensorflow\\trainer.py\", line 219, in function\n\n  File \"c:\\ProgramData\\miniconda3\\envs\\cvLab\\Lib\\site-packages\\keras\\src\\backend\\tensorflow\\trainer.py\", line 132, in multi_step_on_iterator\n\n  File \"c:\\ProgramData\\miniconda3\\envs\\cvLab\\Lib\\site-packages\\keras\\src\\backend\\tensorflow\\trainer.py\", line 113, in one_step_on_data\n\n  File \"c:\\ProgramData\\miniconda3\\envs\\cvLab\\Lib\\site-packages\\keras\\src\\backend\\tensorflow\\trainer.py\", line 84, in train_step\n\n  File \"c:\\ProgramData\\miniconda3\\envs\\cvLab\\Lib\\site-packages\\keras\\src\\trainers\\trainer.py\", line 490, in compute_metrics\n\n  File \"c:\\ProgramData\\miniconda3\\envs\\cvLab\\Lib\\site-packages\\keras\\src\\trainers\\compile_utils.py\", line 334, in update_state\n\n  File \"c:\\ProgramData\\miniconda3\\envs\\cvLab\\Lib\\site-packages\\keras\\src\\trainers\\compile_utils.py\", line 21, in update_state\n\n  File \"c:\\ProgramData\\miniconda3\\envs\\cvLab\\Lib\\site-packages\\keras\\src\\metrics\\iou_metrics.py\", line 142, in update_state\n\n  File \"c:\\ProgramData\\miniconda3\\envs\\cvLab\\Lib\\site-packages\\keras\\src\\metrics\\metrics_utils.py\", line 677, in confusion_matrix\n\n  File \"c:\\ProgramData\\miniconda3\\envs\\cvLab\\Lib\\site-packages\\keras\\src\\ops\\numpy.py\", line 5228, in stack\n\n  File \"c:\\ProgramData\\miniconda3\\envs\\cvLab\\Lib\\site-packages\\keras\\src\\backend\\tensorflow\\numpy.py\", line 2014, in stack\n\nShapes of all inputs must match: values[0].shape = [65536] != values[1].shape = [196608]\n\t [[{{node stack}}]] [Op:__inference_multi_step_on_iterator_41517]",
     "output_type": "error",
     "traceback": [
      "\u001b[1;31m---------------------------------------------------------------------------\u001b[0m",
      "\u001b[1;31mInvalidArgumentError\u001b[0m                      Traceback (most recent call last)",
      "Cell \u001b[1;32mIn[17], line 1\u001b[0m\n\u001b[1;32m----> 1\u001b[0m history \u001b[38;5;241m=\u001b[39m \u001b[43mmodel\u001b[49m\u001b[38;5;241;43m.\u001b[39;49m\u001b[43mfit\u001b[49m\u001b[43m(\u001b[49m\u001b[43mtrain_dataset\u001b[49m\u001b[43m,\u001b[49m\u001b[43m \u001b[49m\n\u001b[0;32m      2\u001b[0m \u001b[43m                    \u001b[49m\u001b[43mvalidation_data\u001b[49m\u001b[38;5;241;43m=\u001b[39;49m\u001b[43mval_dataset\u001b[49m\u001b[43m,\u001b[49m\u001b[43m \u001b[49m\n\u001b[0;32m      3\u001b[0m \u001b[43m                    \u001b[49m\u001b[43mepochs\u001b[49m\u001b[38;5;241;43m=\u001b[39;49m\u001b[43mTRAIN\u001b[49m\u001b[43m[\u001b[49m\u001b[38;5;124;43m'\u001b[39;49m\u001b[38;5;124;43mNUM_EPOCHS\u001b[39;49m\u001b[38;5;124;43m'\u001b[39;49m\u001b[43m]\u001b[49m\u001b[43m,\u001b[49m\u001b[43m \u001b[49m\n\u001b[0;32m      4\u001b[0m \u001b[43m                    \u001b[49m\u001b[43mverbose\u001b[49m\u001b[38;5;241;43m=\u001b[39;49m\u001b[38;5;241;43m1\u001b[39;49m\u001b[43m,\u001b[49m\n\u001b[0;32m      5\u001b[0m \u001b[43m                    \u001b[49m\u001b[43mcallbacks\u001b[49m\u001b[38;5;241;43m=\u001b[39;49m\u001b[43m[\u001b[49m\u001b[43mtensorboard_callback\u001b[49m\u001b[43m,\u001b[49m\u001b[43m \u001b[49m\u001b[43mcheckpoint\u001b[49m\u001b[43m,\u001b[49m\u001b[43m \u001b[49m\u001b[43mearly_stop\u001b[49m\u001b[43m]\u001b[49m\u001b[43m)\u001b[49m\n",
      "File \u001b[1;32mc:\\ProgramData\\miniconda3\\envs\\cvLab\\Lib\\site-packages\\keras\\src\\utils\\traceback_utils.py:122\u001b[0m, in \u001b[0;36mfilter_traceback.<locals>.error_handler\u001b[1;34m(*args, **kwargs)\u001b[0m\n\u001b[0;32m    119\u001b[0m     filtered_tb \u001b[38;5;241m=\u001b[39m _process_traceback_frames(e\u001b[38;5;241m.\u001b[39m__traceback__)\n\u001b[0;32m    120\u001b[0m     \u001b[38;5;66;03m# To get the full stack trace, call:\u001b[39;00m\n\u001b[0;32m    121\u001b[0m     \u001b[38;5;66;03m# `keras.config.disable_traceback_filtering()`\u001b[39;00m\n\u001b[1;32m--> 122\u001b[0m     \u001b[38;5;28;01mraise\u001b[39;00m e\u001b[38;5;241m.\u001b[39mwith_traceback(filtered_tb) \u001b[38;5;28;01mfrom\u001b[39;00m \u001b[38;5;28;01mNone\u001b[39;00m\n\u001b[0;32m    123\u001b[0m \u001b[38;5;28;01mfinally\u001b[39;00m:\n\u001b[0;32m    124\u001b[0m     \u001b[38;5;28;01mdel\u001b[39;00m filtered_tb\n",
      "File \u001b[1;32mc:\\ProgramData\\miniconda3\\envs\\cvLab\\Lib\\site-packages\\tensorflow\\python\\eager\\execute.py:53\u001b[0m, in \u001b[0;36mquick_execute\u001b[1;34m(op_name, num_outputs, inputs, attrs, ctx, name)\u001b[0m\n\u001b[0;32m     51\u001b[0m \u001b[38;5;28;01mtry\u001b[39;00m:\n\u001b[0;32m     52\u001b[0m   ctx\u001b[38;5;241m.\u001b[39mensure_initialized()\n\u001b[1;32m---> 53\u001b[0m   tensors \u001b[38;5;241m=\u001b[39m pywrap_tfe\u001b[38;5;241m.\u001b[39mTFE_Py_Execute(ctx\u001b[38;5;241m.\u001b[39m_handle, device_name, op_name,\n\u001b[0;32m     54\u001b[0m                                       inputs, attrs, num_outputs)\n\u001b[0;32m     55\u001b[0m \u001b[38;5;28;01mexcept\u001b[39;00m core\u001b[38;5;241m.\u001b[39m_NotOkStatusException \u001b[38;5;28;01mas\u001b[39;00m e:\n\u001b[0;32m     56\u001b[0m   \u001b[38;5;28;01mif\u001b[39;00m name \u001b[38;5;129;01mis\u001b[39;00m \u001b[38;5;129;01mnot\u001b[39;00m \u001b[38;5;28;01mNone\u001b[39;00m:\n",
      "\u001b[1;31mInvalidArgumentError\u001b[0m: Graph execution error:\n\nDetected at node stack defined at (most recent call last):\n  File \"<frozen runpy>\", line 198, in _run_module_as_main\n\n  File \"<frozen runpy>\", line 88, in _run_code\n\n  File \"C:\\Users\\Diaz Angga Permana\\AppData\\Roaming\\Python\\Python312\\site-packages\\ipykernel_launcher.py\", line 18, in <module>\n\n  File \"C:\\Users\\Diaz Angga Permana\\AppData\\Roaming\\Python\\Python312\\site-packages\\traitlets\\config\\application.py\", line 1075, in launch_instance\n\n  File \"C:\\Users\\Diaz Angga Permana\\AppData\\Roaming\\Python\\Python312\\site-packages\\ipykernel\\kernelapp.py\", line 739, in start\n\n  File \"C:\\Users\\Diaz Angga Permana\\AppData\\Roaming\\Python\\Python312\\site-packages\\tornado\\platform\\asyncio.py\", line 205, in start\n\n  File \"c:\\ProgramData\\miniconda3\\envs\\cvLab\\Lib\\asyncio\\base_events.py\", line 645, in run_forever\n\n  File \"c:\\ProgramData\\miniconda3\\envs\\cvLab\\Lib\\asyncio\\base_events.py\", line 1999, in _run_once\n\n  File \"c:\\ProgramData\\miniconda3\\envs\\cvLab\\Lib\\asyncio\\events.py\", line 88, in _run\n\n  File \"C:\\Users\\Diaz Angga Permana\\AppData\\Roaming\\Python\\Python312\\site-packages\\ipykernel\\kernelbase.py\", line 545, in dispatch_queue\n\n  File \"C:\\Users\\Diaz Angga Permana\\AppData\\Roaming\\Python\\Python312\\site-packages\\ipykernel\\kernelbase.py\", line 534, in process_one\n\n  File \"C:\\Users\\Diaz Angga Permana\\AppData\\Roaming\\Python\\Python312\\site-packages\\ipykernel\\kernelbase.py\", line 437, in dispatch_shell\n\n  File \"C:\\Users\\Diaz Angga Permana\\AppData\\Roaming\\Python\\Python312\\site-packages\\ipykernel\\ipkernel.py\", line 362, in execute_request\n\n  File \"C:\\Users\\Diaz Angga Permana\\AppData\\Roaming\\Python\\Python312\\site-packages\\ipykernel\\kernelbase.py\", line 778, in execute_request\n\n  File \"C:\\Users\\Diaz Angga Permana\\AppData\\Roaming\\Python\\Python312\\site-packages\\ipykernel\\ipkernel.py\", line 449, in do_execute\n\n  File \"C:\\Users\\Diaz Angga Permana\\AppData\\Roaming\\Python\\Python312\\site-packages\\ipykernel\\zmqshell.py\", line 549, in run_cell\n\n  File \"C:\\Users\\Diaz Angga Permana\\AppData\\Roaming\\Python\\Python312\\site-packages\\IPython\\core\\interactiveshell.py\", line 3075, in run_cell\n\n  File \"C:\\Users\\Diaz Angga Permana\\AppData\\Roaming\\Python\\Python312\\site-packages\\IPython\\core\\interactiveshell.py\", line 3130, in _run_cell\n\n  File \"C:\\Users\\Diaz Angga Permana\\AppData\\Roaming\\Python\\Python312\\site-packages\\IPython\\core\\async_helpers.py\", line 128, in _pseudo_sync_runner\n\n  File \"C:\\Users\\Diaz Angga Permana\\AppData\\Roaming\\Python\\Python312\\site-packages\\IPython\\core\\interactiveshell.py\", line 3334, in run_cell_async\n\n  File \"C:\\Users\\Diaz Angga Permana\\AppData\\Roaming\\Python\\Python312\\site-packages\\IPython\\core\\interactiveshell.py\", line 3517, in run_ast_nodes\n\n  File \"C:\\Users\\Diaz Angga Permana\\AppData\\Roaming\\Python\\Python312\\site-packages\\IPython\\core\\interactiveshell.py\", line 3577, in run_code\n\n  File \"C:\\Users\\Diaz Angga Permana\\AppData\\Local\\Temp\\ipykernel_2824\\665906156.py\", line 1, in <module>\n\n  File \"c:\\ProgramData\\miniconda3\\envs\\cvLab\\Lib\\site-packages\\keras\\src\\utils\\traceback_utils.py\", line 117, in error_handler\n\n  File \"c:\\ProgramData\\miniconda3\\envs\\cvLab\\Lib\\site-packages\\keras\\src\\backend\\tensorflow\\trainer.py\", line 371, in fit\n\n  File \"c:\\ProgramData\\miniconda3\\envs\\cvLab\\Lib\\site-packages\\keras\\src\\backend\\tensorflow\\trainer.py\", line 219, in function\n\n  File \"c:\\ProgramData\\miniconda3\\envs\\cvLab\\Lib\\site-packages\\keras\\src\\backend\\tensorflow\\trainer.py\", line 132, in multi_step_on_iterator\n\n  File \"c:\\ProgramData\\miniconda3\\envs\\cvLab\\Lib\\site-packages\\keras\\src\\backend\\tensorflow\\trainer.py\", line 113, in one_step_on_data\n\n  File \"c:\\ProgramData\\miniconda3\\envs\\cvLab\\Lib\\site-packages\\keras\\src\\backend\\tensorflow\\trainer.py\", line 84, in train_step\n\n  File \"c:\\ProgramData\\miniconda3\\envs\\cvLab\\Lib\\site-packages\\keras\\src\\trainers\\trainer.py\", line 490, in compute_metrics\n\n  File \"c:\\ProgramData\\miniconda3\\envs\\cvLab\\Lib\\site-packages\\keras\\src\\trainers\\compile_utils.py\", line 334, in update_state\n\n  File \"c:\\ProgramData\\miniconda3\\envs\\cvLab\\Lib\\site-packages\\keras\\src\\trainers\\compile_utils.py\", line 21, in update_state\n\n  File \"c:\\ProgramData\\miniconda3\\envs\\cvLab\\Lib\\site-packages\\keras\\src\\metrics\\iou_metrics.py\", line 142, in update_state\n\n  File \"c:\\ProgramData\\miniconda3\\envs\\cvLab\\Lib\\site-packages\\keras\\src\\metrics\\metrics_utils.py\", line 677, in confusion_matrix\n\n  File \"c:\\ProgramData\\miniconda3\\envs\\cvLab\\Lib\\site-packages\\keras\\src\\ops\\numpy.py\", line 5228, in stack\n\n  File \"c:\\ProgramData\\miniconda3\\envs\\cvLab\\Lib\\site-packages\\keras\\src\\backend\\tensorflow\\numpy.py\", line 2014, in stack\n\nShapes of all inputs must match: values[0].shape = [65536] != values[1].shape = [196608]\n\t [[{{node stack}}]] [Op:__inference_multi_step_on_iterator_41517]"
     ]
    }
   ],
   "source": [
    "history = model.fit(train_dataset, \n",
    "                    validation_data=val_dataset, \n",
    "                    epochs=TRAIN['NUM_EPOCHS'], \n",
    "                    verbose=1,\n",
    "                    callbacks=[tensorboard_callback, checkpoint, early_stop])"
   ]
  },
  {
   "cell_type": "code",
   "execution_count": null,
   "metadata": {},
   "outputs": [],
   "source": []
  }
 ],
 "metadata": {
  "kernelspec": {
   "display_name": "cvLab",
   "language": "python",
   "name": "python3"
  },
  "language_info": {
   "codemirror_mode": {
    "name": "ipython",
    "version": 3
   },
   "file_extension": ".py",
   "mimetype": "text/x-python",
   "name": "python",
   "nbconvert_exporter": "python",
   "pygments_lexer": "ipython3",
   "version": "3.12.9"
  }
 },
 "nbformat": 4,
 "nbformat_minor": 2
}
